{
 "cells": [
  {
   "cell_type": "code",
   "execution_count": 1,
   "id": "08bc5707-68b4-400d-abda-1295a7dcf516",
   "metadata": {},
   "outputs": [],
   "source": [
    "import numpy as np"
   ]
  },
  {
   "cell_type": "code",
   "execution_count": 2,
   "id": "ec9ddb9f-6c59-453a-b48f-52ba6212927b",
   "metadata": {},
   "outputs": [],
   "source": [
    "def basic_operations():\n",
    "    a = np.array(input(\"Enter elements of first array (space-separated): \").split(), dtype=int)\n",
    "    b = np.array(input(\"Enter elements of second array (space-separated): \").split(), dtype=int)\n",
    "\n",
    "    print(\"\\n--- Basic Arithmetic ---\")\n",
    "    print(\"Addition:\", a + b)\n",
    "    print(\"Subtraction:\", a - b)\n",
    "    print(\"Multiplication:\", a * b)\n",
    "    print(\"Division:\", a / b)\n",
    "    print(\"Power:\", a ** b)"
   ]
  },
  {
   "cell_type": "code",
   "execution_count": 3,
   "id": "b59a6791-69ef-4549-8e32-c2a15e414e4a",
   "metadata": {},
   "outputs": [],
   "source": [
    "def statistical_operations():\n",
    "    arr = np.array(input(\"Enter array elements (space-separated): \").split(),dtype=int)\n",
    "\n",
    "    print(\"\\n--- Statistical Results ---\")\n",
    "    print(\"Mean:\", np.mean(arr))\n",
    "    print(\"Median:\", np.median(arr))\n",
    "    print(\"Standard Deviation:\", np.std(arr))\n",
    "    print(\"Variance:\", np.var(arr))\n",
    "    print(\"Minimum:\", np.min(arr))\n",
    "    print(\"Maximum:\", np.max(arr))\n",
    "    print(\"Sum:\", np.sum(arr))\n",
    "    print(\"Product:\", np.prod(arr))\n",
    "    print(\"Shape:\", arr.shape)\n",
    "    print(\"Size:\",arr.size)\n",
    "    print(\"Data Type:\", arr.dtype)"
   ]
  },
  {
   "cell_type": "code",
   "execution_count": 4,
   "id": "1b71e74d-8e59-4f94-9112-ac987fe8c01a",
   "metadata": {},
   "outputs": [],
   "source": [
    "def array_manipulation():\n",
    "    arr = np.array(input(\"Enter array elements (space-separated): \").split(),dtype=int)\n",
    "\n",
    "    print(\"\\n--- Array Manipulation ---\")\n",
    "\n",
    "    # Reshape\n",
    "    r = int(input(\"Enter number of rows for reshape: \"))\n",
    "    c = int(input(\"Enter number of columns for reshape: \"))\n",
    "\n",
    "    if len(arr) == r * c:\n",
    "        print(\"Reshaped Array:\\n\", arr.reshape(r, c))\n",
    "    else:\n",
    "        print(\"Reshape Not Possible\")\n",
    "\n",
    "    print(\"Sorted Array:\", np.sort(arr))\n",
    "    print(\"Reverse Sorted:\", arr[::-1])\n",
    "    print(\"Unique Values:\", np.unique(arr))\n",
    "    print(\"First Element:\", arr[0])\n",
    "    print(\"Last Element:\", arr[-1])\n",
    "    print(\"Mean:\",np.mean(arr))\n",
    "    mean=np.mean(arr)\n",
    "    print(\"Filtering Value Greater Than the Mean:\",arr[arr>mean])"
   ]
  },
  {
   "cell_type": "code",
   "execution_count": 5,
   "id": "9271c724-91cd-419a-9537-4fac43c2be16",
   "metadata": {},
   "outputs": [
    {
     "name": "stdout",
     "output_type": "stream",
     "text": [
      "\n",
      "------ NumPy Mathematical Calculator ------\n",
      "1. Basic Arithmetic Operations\n",
      "2. Statistical Operations\n",
      "3. Array Manipulation\n",
      "4. Exit\n"
     ]
    },
    {
     "name": "stdout",
     "output_type": "stream",
     "text": [
      "Enter your choice:  1\n",
      "Enter elements of first array (space-separated):  14 28 03 06 05 13\n",
      "Enter elements of second array (space-separated):  13 23 23 20 02 82\n"
     ]
    },
    {
     "name": "stdout",
     "output_type": "stream",
     "text": [
      "\n",
      "--- Basic Arithmetic ---\n",
      "Addition: [27 51 26 26  7 95]\n",
      "Subtraction: [  1   5 -20 -14   3 -69]\n",
      "Multiplication: [ 182  644   69  120   10 1066]\n",
      "Division: [1.07692308 1.2173913  0.13043478 0.3        2.5        0.15853659]\n",
      "Power: [  521986048           0  -346101685 -1190133760          25  1960265705]\n",
      "\n",
      "------ NumPy Mathematical Calculator ------\n",
      "1. Basic Arithmetic Operations\n",
      "2. Statistical Operations\n",
      "3. Array Manipulation\n",
      "4. Exit\n"
     ]
    },
    {
     "name": "stdout",
     "output_type": "stream",
     "text": [
      "Enter your choice:  2\n",
      "Enter array elements (space-separated):  12 10 07 09 08\n"
     ]
    },
    {
     "name": "stdout",
     "output_type": "stream",
     "text": [
      "\n",
      "--- Statistical Results ---\n",
      "Mean: 9.2\n",
      "Median: 9.0\n",
      "Standard Deviation: 1.7204650534085253\n",
      "Variance: 2.96\n",
      "Minimum: 7\n",
      "Maximum: 12\n",
      "Sum: 46\n",
      "Product: 60480\n",
      "Shape: (5,)\n",
      "Size: 5\n",
      "Data Type: int32\n",
      "\n",
      "------ NumPy Mathematical Calculator ------\n",
      "1. Basic Arithmetic Operations\n",
      "2. Statistical Operations\n",
      "3. Array Manipulation\n",
      "4. Exit\n"
     ]
    },
    {
     "name": "stdout",
     "output_type": "stream",
     "text": [
      "Enter your choice:  3\n",
      "Enter array elements (space-separated):  11 23 17 27 18 55\n"
     ]
    },
    {
     "name": "stdout",
     "output_type": "stream",
     "text": [
      "\n",
      "--- Array Manipulation ---\n"
     ]
    },
    {
     "name": "stdout",
     "output_type": "stream",
     "text": [
      "Enter number of rows for reshape:  3\n",
      "Enter number of columns for reshape:  2\n"
     ]
    },
    {
     "name": "stdout",
     "output_type": "stream",
     "text": [
      "Reshaped Array:\n",
      " [[11 23]\n",
      " [17 27]\n",
      " [18 55]]\n",
      "Sorted Array: [11 17 18 23 27 55]\n",
      "Reverse Sorted: [55 18 27 17 23 11]\n",
      "Unique Values: [11 17 18 23 27 55]\n",
      "First Element: 11\n",
      "Last Element: 55\n",
      "Mean: 25.166666666666668\n",
      "Filtering Value Greater Than the Mean: [27 55]\n",
      "\n",
      "------ NumPy Mathematical Calculator ------\n",
      "1. Basic Arithmetic Operations\n",
      "2. Statistical Operations\n",
      "3. Array Manipulation\n",
      "4. Exit\n"
     ]
    },
    {
     "name": "stdout",
     "output_type": "stream",
     "text": [
      "Enter your choice:  4\n"
     ]
    },
    {
     "name": "stdout",
     "output_type": "stream",
     "text": [
      "Exiting Program...\n"
     ]
    }
   ],
   "source": [
    "def main():\n",
    "    while True:\n",
    "        print(\"\\n------ NumPy Mathematical Calculator ------\")\n",
    "        print(\"1. Basic Arithmetic Operations\")\n",
    "        print(\"2. Statistical Operations\")\n",
    "        print(\"3. Array Manipulation\")\n",
    "        print(\"4. Exit\")\n",
    "\n",
    "        choice = int(input(\"Enter your choice: \"))\n",
    "\n",
    "        if choice == 1:\n",
    "            basic_operations()\n",
    "        elif choice == 2:\n",
    "            statistical_operations()\n",
    "        elif choice == 3:\n",
    "            array_manipulation()\n",
    "        elif choice == 4:\n",
    "            print(\"Exiting Program...\")\n",
    "            break\n",
    "        else:\n",
    "            print(\"Invalid Choice! Try Again.\")\n",
    "\n",
    "\n",
    "main()"
   ]
  },
  {
   "cell_type": "code",
   "execution_count": null,
   "id": "523e8670-577e-477b-9b59-ec15561569ab",
   "metadata": {},
   "outputs": [],
   "source": []
  }
 ],
 "metadata": {
  "kernelspec": {
   "display_name": "Python 3 (ipykernel)",
   "language": "python",
   "name": "python3"
  },
  "language_info": {
   "codemirror_mode": {
    "name": "ipython",
    "version": 3
   },
   "file_extension": ".py",
   "mimetype": "text/x-python",
   "name": "python",
   "nbconvert_exporter": "python",
   "pygments_lexer": "ipython3",
   "version": "3.12.4"
  }
 },
 "nbformat": 4,
 "nbformat_minor": 5
}
