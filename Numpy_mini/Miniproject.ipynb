{
  "cells": [
    {
      "cell_type": "code",
      "execution_count": 26,
      "metadata": {
        "colab": {
          "base_uri": "https://localhost:8080/"
        },
        "id": "oEtDjW2NS00a",
        "outputId": "6a2a75ef-a686-462c-b039-a2857355339a"
      },
      "outputs": [
        {
          "name": "stdout",
          "output_type": "stream",
          "text": [
            "[[1 2 3]\n",
            " [4 5 6]]\n",
            "[[ 7  8  9]\n",
            " [ 0 11 12]]\n",
            "[[10 20 30]\n",
            " [40 50 60]]\n"
          ]
        }
      ],
      "source": [
        "#Data Creation\n",
        "import numpy as np\n",
        "students=np.array([[1,2,3],[4,5,6]])\n",
        "subjects=np.array([[7,8,9],[0,11,12]])\n",
        "marks=np.array([[10,20,30],[40,50,60]])\n",
        "print(students)\n",
        "print(subjects)\n",
        "print(marks)"
      ]
    },
    {
      "cell_type": "code",
      "execution_count": 27,
      "metadata": {
        "colab": {
          "base_uri": "https://localhost:8080/"
        },
        "id": "GYhuU7GVT7kb",
        "outputId": "56b6eb4a-6a19-4494-b189-a09c85de6395"
      },
      "outputs": [
        {
          "name": "stdout",
          "output_type": "stream",
          "text": [
            "2\n",
            "2\n",
            "2\n"
          ]
        }
      ],
      "source": [
        "#Data Exploration\n",
        "print(students.ndim)\n",
        "print(subjects.ndim)\n",
        "print(marks.ndim)"
      ]
    },
    {
      "cell_type": "code",
      "execution_count": 28,
      "metadata": {
        "colab": {
          "base_uri": "https://localhost:8080/"
        },
        "id": "VVKEDUWmUdFb",
        "outputId": "1d2ed6b8-ee9e-4c52-f9f6-e5b07ea6bbc4"
      },
      "outputs": [
        {
          "name": "stdout",
          "output_type": "stream",
          "text": [
            "6\n",
            "6\n",
            "6\n"
          ]
        }
      ],
      "source": [
        "print(students.size)\n",
        "print(subjects.size)\n",
        "print(marks.size)"
      ]
    },
    {
      "cell_type": "code",
      "execution_count": 29,
      "metadata": {
        "colab": {
          "base_uri": "https://localhost:8080/"
        },
        "id": "bCi_VUsKUolY",
        "outputId": "0bc11d50-7e01-4fd8-935c-b5a7b215a87f"
      },
      "outputs": [
        {
          "name": "stdout",
          "output_type": "stream",
          "text": [
            "(2, 3)\n",
            "(2, 3)\n",
            "(2, 3)\n"
          ]
        }
      ],
      "source": [
        "print(students.shape)\n",
        "print(subjects.shape)\n",
        "print(marks.shape)"
      ]
    },
    {
      "cell_type": "code",
      "execution_count": 30,
      "metadata": {
        "colab": {
          "base_uri": "https://localhost:8080/"
        },
        "id": "6-YnyS6PUwV-",
        "outputId": "a83d73bf-49b4-4ed0-9355-eb13da03b144"
      },
      "outputs": [
        {
          "name": "stdout",
          "output_type": "stream",
          "text": [
            "[[[1 2]\n",
            "  [3 4]\n",
            "  [5 6]]]\n",
            "[[[ 7  8]\n",
            "  [ 9  0]\n",
            "  [11 12]]]\n",
            "[[[10 20]\n",
            "  [30 40]\n",
            "  [50 60]]]\n"
          ]
        }
      ],
      "source": [
        "#Data Transformation\n",
        "print(students.reshape(1,3,2))\n",
        "print(subjects.reshape(1,3,2))\n",
        "print(marks.reshape(1,3,2))"
      ]
    },
    {
      "cell_type": "code",
      "execution_count": 31,
      "metadata": {
        "colab": {
          "base_uri": "https://localhost:8080/"
        },
        "id": "FhG0wizxY3RE",
        "outputId": "26751a4c-81c6-4b36-9cf6-9f4845576931"
      },
      "outputs": [
        {
          "name": "stdout",
          "output_type": "stream",
          "text": [
            "[[1 4]\n",
            " [2 5]\n",
            " [3 6]]\n",
            "[[ 7  0]\n",
            " [ 8 11]\n",
            " [ 9 12]]\n",
            "[[10 40]\n",
            " [20 50]\n",
            " [30 60]]\n"
          ]
        }
      ],
      "source": [
        "print(students.T)\n",
        "print(subjects.T)\n",
        "print(marks.T)\n"
      ]
    },
    {
      "cell_type": "code",
      "execution_count": 32,
      "metadata": {
        "colab": {
          "base_uri": "https://localhost:8080/"
        },
        "id": "5daHTy1DZIEG",
        "outputId": "ae87a9e9-1701-480f-9292-bf2790b50e2a"
      },
      "outputs": [
        {
          "name": "stdout",
          "output_type": "stream",
          "text": [
            "[[6 5 4]\n",
            " [3 2 1]]\n",
            "[[12 11  0]\n",
            " [ 9  8  7]]\n",
            "[[60 50 40]\n",
            " [30 20 10]]\n"
          ]
        }
      ],
      "source": [
        "print(np.flip(students))\n",
        "print(np.flip(subjects))\n",
        "print(np.flip(marks))"
      ]
    },
    {
      "cell_type": "code",
      "execution_count": 33,
      "metadata": {
        "colab": {
          "base_uri": "https://localhost:8080/"
        },
        "id": "b83ebgdDZWET",
        "outputId": "f24baaf0-ad08-47d9-96f3-7a7fda87da0e"
      },
      "outputs": [
        {
          "name": "stdout",
          "output_type": "stream",
          "text": [
            "[[ 1  2  3]\n",
            " [ 4  5  6]\n",
            " [ 7  8  9]\n",
            " [10 11 12]]\n",
            "[[ 7  8  9]\n",
            " [ 0 11 12]\n",
            " [13 14 15]\n",
            " [16 17 18]]\n",
            "[ 1  2  3  4  5  6  7  8  9 10 11 12  7  8  9  0 11 12 13 14 15 16 17 18]\n"
          ]
        }
      ],
      "source": [
        "#Data Combination\n",
        "students_1=np.array([[7,8,9],[10,11,12]])\n",
        "subjects_1=np.array([[13,14,15],[16,17,18]])\n",
        "a=np.concatenate((students, students_1))\n",
        "b=np.concatenate((subjects,subjects_1))\n",
        "print(a)\n",
        "print(b)\n",
        "new_arr=np.concatenate((a,b))\n",
        "print(new_arr.ravel())\n"
      ]
    },
    {
      "cell_type": "code",
      "execution_count": 34,
      "metadata": {
        "colab": {
          "base_uri": "https://localhost:8080/"
        },
        "id": "mktVUMRG-T_y",
        "outputId": "ed7c5ac8-33c6-460d-b3c9-a2fcd64ea063"
      },
      "outputs": [
        {
          "name": "stdout",
          "output_type": "stream",
          "text": [
            "[ 1  2  3  4  5  6  7  8  9 10 11 12  7  8  9  0 11 12 13 14 15 16 17 18]\n"
          ]
        },
        {
          "data": {
            "text/plain": [
              "[array([1, 2]),\n",
              " array([3, 4]),\n",
              " array([5, 6]),\n",
              " array([7, 8]),\n",
              " array([ 9, 10]),\n",
              " array([11, 12]),\n",
              " array([7, 8]),\n",
              " array([9, 0]),\n",
              " array([11, 12]),\n",
              " array([13, 14]),\n",
              " array([15, 16]),\n",
              " array([17, 18])]"
            ]
          },
          "execution_count": 34,
          "metadata": {},
          "output_type": "execute_result"
        }
      ],
      "source": [
        "#split\n",
        "new_arr1=new_arr.reshape(-1)\n",
        "print(new_arr1)\n",
        "np.split(new_arr1,12)"
      ]
    },
    {
      "cell_type": "code",
      "execution_count": 35,
      "metadata": {
        "colab": {
          "base_uri": "https://localhost:8080/"
        },
        "id": "3z3HsOjy7mLc",
        "outputId": "241d1d9f-dd38-4dca-c233-663030c10b6d"
      },
      "outputs": [
        {
          "name": "stdout",
          "output_type": "stream",
          "text": [
            "[[10 20 30]\n",
            " [40 50 60]]\n",
            "[[10 20 70]\n",
            " [40 50 60]]\n"
          ]
        }
      ],
      "source": [
        "#Data Modification\n",
        "#update\n",
        "a_1=marks.copy()\n",
        "print(a_1)\n",
        "a_1[0][2]=70\n",
        "print(a_1)"
      ]
    },
    {
      "cell_type": "code",
      "execution_count": 36,
      "metadata": {
        "colab": {
          "base_uri": "https://localhost:8080/"
        },
        "id": "zbxDjLgR9Ayp",
        "outputId": "d0153eb7-fe93-453e-e3e4-b101eb7bdc20"
      },
      "outputs": [
        {
          "data": {
            "text/plain": [
              "array([10, 20, 70, 50, 60])"
            ]
          },
          "execution_count": 36,
          "metadata": {},
          "output_type": "execute_result"
        }
      ],
      "source": [
        "#remove\n",
        "a_1.reshape(-1)\n",
        "np.delete(a_1,3)\n"
      ]
    },
    {
      "cell_type": "code",
      "execution_count": 37,
      "metadata": {
        "colab": {
          "base_uri": "https://localhost:8080/"
        },
        "id": "-uAIiPjh__la",
        "outputId": "d6f9235e-6e13-4e70-cbdb-2d14a3fb1b45"
      },
      "outputs": [
        {
          "name": "stdout",
          "output_type": "stream",
          "text": [
            "[ 1  2  3  4  5  6  7  8  9 10 11 12  7  8  9  0 11 12 13 14 15 16 17 18]\n"
          ]
        },
        {
          "data": {
            "text/plain": [
              "array([ 0,  1,  2,  3,  4,  5,  6,  7,  8,  9, 10, 11, 12, 13, 14, 15, 16,\n",
              "       17, 18])"
            ]
          },
          "execution_count": 37,
          "metadata": {},
          "output_type": "execute_result"
        }
      ],
      "source": [
        "#unique\n",
        "print(new_arr1)\n",
        "np.unique(new_arr1)"
      ]
    },
    {
      "cell_type": "code",
      "execution_count": 38,
      "metadata": {
        "colab": {
          "base_uri": "https://localhost:8080/"
        },
        "id": "YcWq5XSIAp24",
        "outputId": "15f1aa1e-017d-49f7-a2a7-0934e50bcf34"
      },
      "outputs": [
        {
          "name": "stdout",
          "output_type": "stream",
          "text": [
            "int64\n",
            "[ 1.  2.  3.  4.  5.  6.  7.  8.  9. 10. 11. 12.  7.  8.  9.  0. 11. 12.\n",
            " 13. 14. 15. 16. 17. 18.]\n"
          ]
        }
      ],
      "source": [
        "#Data Type Handling\n",
        "print(new_arr1.dtype)\n",
        "new_arr2=new_arr1.astype(dtype=float)\n",
        "print(new_arr2)"
      ]
    },
    {
      "cell_type": "code",
      "execution_count": 42,
      "metadata": {
        "colab": {
          "base_uri": "https://localhost:8080/"
        },
        "id": "rOI09430B_EI",
        "outputId": "82ad2cfd-98a2-4ff3-836d-9836e9a1a97c"
      },
      "outputs": [
        {
          "name": "stdout",
          "output_type": "stream",
          "text": [
            "[[ 7  8  9]\n",
            " [ 0 11 12]]\n",
            "[ 7  8 16  0 11 12]\n"
          ]
        },
        {
          "data": {
            "text/plain": [
              "array([[ 1,  2,  3],\n",
              "       [ 4,  5,  6],\n",
              "       [ 7,  8,  9],\n",
              "       [10, 11, 12],\n",
              "       [ 7,  8,  9],\n",
              "       [ 0, 11, 12],\n",
              "       [13, 14, 15],\n",
              "       [16, 17, 18]])"
            ]
          },
          "execution_count": 42,
          "metadata": {},
          "output_type": "execute_result"
        }
      ],
      "source": [
        "#Copy & View Behaviour\n",
        "Subj=subjects.copy()\n",
        "print(Subj)\n",
        "new_Subj=Subj.ravel()\n",
        "new_Subj[2]=16\n",
        "print(new_Subj)\n",
        "#view\n",
        "new_Subj.view()\n",
        "new_arr.view()\n",
        "\n",
        "\n"
      ]
    }
  ],
  "metadata": {
    "colab": {
      "provenance": []
    },
    "kernelspec": {
      "display_name": "Python 3",
      "name": "python3"
    },
    "language_info": {
      "name": "python"
    }
  },
  "nbformat": 4,
  "nbformat_minor": 0
}
