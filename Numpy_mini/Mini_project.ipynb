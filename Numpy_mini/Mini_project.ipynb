{
  "nbformat": 4,
  "nbformat_minor": 0,
  "metadata": {
    "colab": {
      "provenance": []
    },
    "kernelspec": {
      "name": "python3",
      "display_name": "Python 3"
    },
    "language_info": {
      "name": "python"
    }
  },
  "cells": [
    {
      "cell_type": "code",
      "execution_count": 18,
      "metadata": {
        "colab": {
          "base_uri": "https://localhost:8080/"
        },
        "id": "oEtDjW2NS00a",
        "outputId": "73d2008e-c13b-4feb-c75f-2a8957e9cf5e"
      },
      "outputs": [
        {
          "output_type": "stream",
          "name": "stdout",
          "text": [
            "['Alia' 'Riya' 'Ram' 'Priya' 'Eve' 'Don']\n",
            "['Physics' 'Chemistry' 'English' 'Maths']\n",
            "[[90 65 95 91]\n",
            " [80 75 90 85]\n",
            " [95 89 94 87]\n",
            " [76 64 68 87]\n",
            " [89 85 91 85]\n",
            " [88 71 60 40]]\n"
          ]
        }
      ],
      "source": [
        "#Data Creation\n",
        "import numpy as np\n",
        "students=np.array([\"Alia\", \"Riya\", \"Ram\", \"Priya\", \"Eve\", \"Don\"])\n",
        "subjects=np.array([\"Physics\", \"Chemistry\", \"English\", \"Maths\"])\n",
        "marks=np.array([\n",
        "    [90, 65, 95, 91],\n",
        "    [80, 75, 90, 85],\n",
        "    [95, 89, 94, 87],\n",
        "    [76, 64, 68, 87],\n",
        "    [89, 85, 91, 85],\n",
        "    [88, 71, 60, 40]])\n",
        "print(students)\n",
        "print(subjects)\n",
        "print(marks)"
      ]
    },
    {
      "cell_type": "code",
      "source": [
        "#Data Exploration\n",
        "print(students.ndim)\n",
        "print(subjects.ndim)\n",
        "print(marks.ndim)"
      ],
      "metadata": {
        "colab": {
          "base_uri": "https://localhost:8080/"
        },
        "id": "GYhuU7GVT7kb",
        "outputId": "ac9155b3-236c-40da-d856-857bfcd46580"
      },
      "execution_count": 19,
      "outputs": [
        {
          "output_type": "stream",
          "name": "stdout",
          "text": [
            "1\n",
            "1\n",
            "2\n"
          ]
        }
      ]
    },
    {
      "cell_type": "code",
      "source": [
        "print(students.size)\n",
        "print(subjects.size)\n",
        "print(marks.size)"
      ],
      "metadata": {
        "colab": {
          "base_uri": "https://localhost:8080/"
        },
        "id": "VVKEDUWmUdFb",
        "outputId": "88759d40-c3f6-474d-e818-7d4707939cdd"
      },
      "execution_count": 20,
      "outputs": [
        {
          "output_type": "stream",
          "name": "stdout",
          "text": [
            "6\n",
            "4\n",
            "24\n"
          ]
        }
      ]
    },
    {
      "cell_type": "code",
      "source": [
        "print(students.shape)\n",
        "print(subjects.shape)\n",
        "print(marks.shape)"
      ],
      "metadata": {
        "colab": {
          "base_uri": "https://localhost:8080/"
        },
        "id": "bCi_VUsKUolY",
        "outputId": "360833e3-b62e-4678-c4c9-6f23039fc5c1"
      },
      "execution_count": 21,
      "outputs": [
        {
          "output_type": "stream",
          "name": "stdout",
          "text": [
            "(6,)\n",
            "(4,)\n",
            "(6, 4)\n"
          ]
        }
      ]
    },
    {
      "cell_type": "code",
      "source": [
        "#Data Transformation\n",
        "print(marks.flatten())\n",
        "print(marks.reshape(12,2))"
      ],
      "metadata": {
        "colab": {
          "base_uri": "https://localhost:8080/"
        },
        "id": "6-YnyS6PUwV-",
        "outputId": "f783654e-afdc-4b3e-81ac-f1fa02ddb314"
      },
      "execution_count": 22,
      "outputs": [
        {
          "output_type": "stream",
          "name": "stdout",
          "text": [
            "[90 65 95 91 80 75 90 85 95 89 94 87 76 64 68 87 89 85 91 85 88 71 60 40]\n",
            "[[90 65]\n",
            " [95 91]\n",
            " [80 75]\n",
            " [90 85]\n",
            " [95 89]\n",
            " [94 87]\n",
            " [76 64]\n",
            " [68 87]\n",
            " [89 85]\n",
            " [91 85]\n",
            " [88 71]\n",
            " [60 40]]\n"
          ]
        }
      ]
    },
    {
      "cell_type": "code",
      "source": [
        "print(marks.T)\n"
      ],
      "metadata": {
        "colab": {
          "base_uri": "https://localhost:8080/"
        },
        "id": "FhG0wizxY3RE",
        "outputId": "9013d430-2f00-42dc-cd5c-1f7697f6caae"
      },
      "execution_count": 23,
      "outputs": [
        {
          "output_type": "stream",
          "name": "stdout",
          "text": [
            "[[90 80 95 76 89 88]\n",
            " [65 75 89 64 85 71]\n",
            " [95 90 94 68 91 60]\n",
            " [91 85 87 87 85 40]]\n"
          ]
        }
      ]
    },
    {
      "cell_type": "code",
      "source": [
        "print(np.flip(marks))"
      ],
      "metadata": {
        "colab": {
          "base_uri": "https://localhost:8080/"
        },
        "id": "5daHTy1DZIEG",
        "outputId": "621fdb8c-64ed-439e-c7f9-40f79ca8f4d0"
      },
      "execution_count": 24,
      "outputs": [
        {
          "output_type": "stream",
          "name": "stdout",
          "text": [
            "[[40 60 71 88]\n",
            " [85 91 85 89]\n",
            " [87 68 64 76]\n",
            " [87 94 89 95]\n",
            " [85 90 75 80]\n",
            " [91 95 65 90]]\n"
          ]
        }
      ]
    },
    {
      "cell_type": "code",
      "source": [
        "#Data Combination\n",
        "student = np.array(['Alia',\"Riya\",\"Ram\"])\n",
        "marks = np.array([[90, 65, 95, 91],\n",
        "    [80, 75, 90, 85],\n",
        "    [95, 89, 94, 87]])\n",
        "student_1 = np.array([\"Siya\"])\n",
        "marks_1 = np.array([[75,80,90,89]])\n",
        "\n",
        "student = np.concatenate((student,student_1))\n",
        "marks = np.concatenate((marks,marks_1))\n",
        "print(student)\n",
        "print(marks)\n"
      ],
      "metadata": {
        "colab": {
          "base_uri": "https://localhost:8080/"
        },
        "id": "b83ebgdDZWET",
        "outputId": "2969939d-007e-4551-e180-e4989d96afcf"
      },
      "execution_count": 25,
      "outputs": [
        {
          "output_type": "stream",
          "name": "stdout",
          "text": [
            "['Alia' 'Riya' 'Ram' 'Siya']\n",
            "[[90 65 95 91]\n",
            " [80 75 90 85]\n",
            " [95 89 94 87]\n",
            " [75 80 90 89]]\n"
          ]
        }
      ]
    },
    {
      "cell_type": "code",
      "source": [
        "marks=marks.reshape(-1)\n",
        "print(marks)\n",
        "np.split(marks,4)"
      ],
      "metadata": {
        "colab": {
          "base_uri": "https://localhost:8080/"
        },
        "id": "pf-z1T2BL6XO",
        "outputId": "04c4e8c7-3760-4387-b5e9-3f7b48e591b5"
      },
      "execution_count": 26,
      "outputs": [
        {
          "output_type": "stream",
          "name": "stdout",
          "text": [
            "[90 65 95 91 80 75 90 85 95 89 94 87 75 80 90 89]\n"
          ]
        },
        {
          "output_type": "execute_result",
          "data": {
            "text/plain": [
              "[array([90, 65, 95, 91]),\n",
              " array([80, 75, 90, 85]),\n",
              " array([95, 89, 94, 87]),\n",
              " array([75, 80, 90, 89])]"
            ]
          },
          "metadata": {},
          "execution_count": 26
        }
      ]
    },
    {
      "cell_type": "code",
      "source": [
        "#Data Modification\n",
        "marks[4] = 40\n",
        "print(marks)"
      ],
      "metadata": {
        "colab": {
          "base_uri": "https://localhost:8080/"
        },
        "id": "3z3HsOjy7mLc",
        "outputId": "a1ff4ac4-5a93-4604-c9ce-90ef0f00f465"
      },
      "execution_count": 27,
      "outputs": [
        {
          "output_type": "stream",
          "name": "stdout",
          "text": [
            "[90 65 95 91 40 75 90 85 95 89 94 87 75 80 90 89]\n"
          ]
        }
      ]
    },
    {
      "cell_type": "code",
      "source": [
        "np.delete(marks,4)\n",
        "print(marks)\n"
      ],
      "metadata": {
        "colab": {
          "base_uri": "https://localhost:8080/"
        },
        "id": "zbxDjLgR9Ayp",
        "outputId": "1988eb48-4a77-4dc8-fdea-c19947668b5d"
      },
      "execution_count": 28,
      "outputs": [
        {
          "output_type": "stream",
          "name": "stdout",
          "text": [
            "[90 65 95 91 40 75 90 85 95 89 94 87 75 80 90 89]\n"
          ]
        }
      ]
    },
    {
      "cell_type": "code",
      "source": [
        "print(marks)\n",
        "np.unique(marks)"
      ],
      "metadata": {
        "colab": {
          "base_uri": "https://localhost:8080/"
        },
        "id": "-uAIiPjh__la",
        "outputId": "517eac2d-781c-4e61-80ab-294b667b14cf"
      },
      "execution_count": 29,
      "outputs": [
        {
          "output_type": "stream",
          "name": "stdout",
          "text": [
            "[90 65 95 91 40 75 90 85 95 89 94 87 75 80 90 89]\n"
          ]
        },
        {
          "output_type": "execute_result",
          "data": {
            "text/plain": [
              "array([40, 65, 75, 80, 85, 87, 89, 90, 91, 94, 95])"
            ]
          },
          "metadata": {},
          "execution_count": 29
        }
      ]
    },
    {
      "cell_type": "code",
      "source": [
        "#Data Type Handling\n",
        "print(marks.dtype)\n",
        "print(marks.astype(dtype=float))\n",
        "print(marks.astype(dtype=str))"
      ],
      "metadata": {
        "colab": {
          "base_uri": "https://localhost:8080/"
        },
        "id": "YcWq5XSIAp24",
        "outputId": "6b1d3e9d-0b99-43fd-daae-c390af5d4328"
      },
      "execution_count": 30,
      "outputs": [
        {
          "output_type": "stream",
          "name": "stdout",
          "text": [
            "int64\n",
            "[90. 65. 95. 91. 40. 75. 90. 85. 95. 89. 94. 87. 75. 80. 90. 89.]\n",
            "['90' '65' '95' '91' '40' '75' '90' '85' '95' '89' '94' '87' '75' '80'\n",
            " '90' '89']\n"
          ]
        }
      ]
    },
    {
      "cell_type": "code",
      "source": [
        "#Copy & View Behaviour\n",
        "a = marks.copy()\n",
        "a[0] = 99\n",
        "print(marks)"
      ],
      "metadata": {
        "id": "rOI09430B_EI",
        "colab": {
          "base_uri": "https://localhost:8080/"
        },
        "outputId": "8f80464c-4b58-4c41-a773-e9cce1e12513"
      },
      "execution_count": 31,
      "outputs": [
        {
          "output_type": "stream",
          "name": "stdout",
          "text": [
            "[90 65 95 91 40 75 90 85 95 89 94 87 75 80 90 89]\n"
          ]
        }
      ]
    },
    {
      "cell_type": "code",
      "source": [
        "b = marks.view()\n",
        "b[0] = 100\n",
        "print(marks)"
      ],
      "metadata": {
        "colab": {
          "base_uri": "https://localhost:8080/"
        },
        "id": "b5WSyPFiMaUf",
        "outputId": "94b1cd85-1a95-4cf6-9438-58a1917597c0"
      },
      "execution_count": 32,
      "outputs": [
        {
          "output_type": "stream",
          "name": "stdout",
          "text": [
            "[100  65  95  91  40  75  90  85  95  89  94  87  75  80  90  89]\n"
          ]
        }
      ]
    }
  ]
}