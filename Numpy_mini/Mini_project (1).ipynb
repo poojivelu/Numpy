{
  "nbformat": 4,
  "nbformat_minor": 0,
  "metadata": {
    "colab": {
      "provenance": []
    },
    "kernelspec": {
      "name": "python3",
      "display_name": "Python 3"
    },
    "language_info": {
      "name": "python"
    }
  },
  "cells": [
    {
      "cell_type": "code",
      "execution_count": 1,
      "metadata": {
        "colab": {
          "base_uri": "https://localhost:8080/"
        },
        "id": "oEtDjW2NS00a",
        "outputId": "d19c5aea-ee2b-49d2-8217-84a8caf14769"
      },
      "outputs": [
        {
          "output_type": "stream",
          "name": "stdout",
          "text": [
            "['Alia' 'Riya' 'Ram' 'Priya' 'Eve' 'Don']\n",
            "['Physics' 'Chemistry' 'English' 'Maths']\n",
            "[[90 65 95 91]\n",
            " [80 75 90 85]\n",
            " [95 89 94 87]\n",
            " [76 64 68 87]\n",
            " [89 85 91 85]\n",
            " [88 71 60 40]]\n"
          ]
        }
      ],
      "source": [
        "#Data Creation\n",
        "import numpy as np\n",
        "students=np.array([\"Alia\", \"Riya\", \"Ram\", \"Priya\", \"Eve\", \"Don\"])\n",
        "subjects=np.array([\"Physics\", \"Chemistry\", \"English\", \"Maths\"])\n",
        "marks=np.array([\n",
        "    [90, 65, 95, 91],\n",
        "    [80, 75, 90, 85],\n",
        "    [95, 89, 94, 87],\n",
        "    [76, 64, 68, 87],\n",
        "    [89, 85, 91, 85],\n",
        "    [88, 71, 60, 40]])\n",
        "print(students)\n",
        "print(subjects)\n",
        "print(marks)"
      ]
    },
    {
      "cell_type": "code",
      "source": [
        "#Data Exploration\n",
        "print(students.ndim)\n",
        "print(subjects.ndim)\n",
        "print(marks.ndim)"
      ],
      "metadata": {
        "colab": {
          "base_uri": "https://localhost:8080/"
        },
        "id": "GYhuU7GVT7kb",
        "outputId": "945e4848-dfd7-4282-a7c1-854bf2602aa3"
      },
      "execution_count": 2,
      "outputs": [
        {
          "output_type": "stream",
          "name": "stdout",
          "text": [
            "1\n",
            "1\n",
            "2\n"
          ]
        }
      ]
    },
    {
      "cell_type": "code",
      "source": [
        "print(students.size)\n",
        "print(subjects.size)\n",
        "print(marks.size)"
      ],
      "metadata": {
        "colab": {
          "base_uri": "https://localhost:8080/"
        },
        "id": "VVKEDUWmUdFb",
        "outputId": "39dc0b81-b7b3-446e-f858-2c52131b5ad5"
      },
      "execution_count": 3,
      "outputs": [
        {
          "output_type": "stream",
          "name": "stdout",
          "text": [
            "6\n",
            "4\n",
            "24\n"
          ]
        }
      ]
    },
    {
      "cell_type": "code",
      "source": [
        "print(students.shape)\n",
        "print(subjects.shape)\n",
        "print(marks.shape)"
      ],
      "metadata": {
        "colab": {
          "base_uri": "https://localhost:8080/"
        },
        "id": "bCi_VUsKUolY",
        "outputId": "2c9f897a-b624-430f-f0e4-75aae6ccfc75"
      },
      "execution_count": 4,
      "outputs": [
        {
          "output_type": "stream",
          "name": "stdout",
          "text": [
            "(6,)\n",
            "(4,)\n",
            "(6, 4)\n"
          ]
        }
      ]
    },
    {
      "cell_type": "code",
      "source": [
        "#Data Transformation\n",
        "print(marks.flatten())\n",
        "print(marks.reshape(12,2))"
      ],
      "metadata": {
        "colab": {
          "base_uri": "https://localhost:8080/"
        },
        "id": "6-YnyS6PUwV-",
        "outputId": "be4ee58b-02e6-46d3-827c-f2053a593fe8"
      },
      "execution_count": 5,
      "outputs": [
        {
          "output_type": "stream",
          "name": "stdout",
          "text": [
            "[90 65 95 91 80 75 90 85 95 89 94 87 76 64 68 87 89 85 91 85 88 71 60 40]\n",
            "[[90 65]\n",
            " [95 91]\n",
            " [80 75]\n",
            " [90 85]\n",
            " [95 89]\n",
            " [94 87]\n",
            " [76 64]\n",
            " [68 87]\n",
            " [89 85]\n",
            " [91 85]\n",
            " [88 71]\n",
            " [60 40]]\n"
          ]
        }
      ]
    },
    {
      "cell_type": "code",
      "source": [
        "print(marks.T)\n"
      ],
      "metadata": {
        "colab": {
          "base_uri": "https://localhost:8080/"
        },
        "id": "FhG0wizxY3RE",
        "outputId": "efa521f0-9f07-4851-c917-dc0d79c36bd9"
      },
      "execution_count": 6,
      "outputs": [
        {
          "output_type": "stream",
          "name": "stdout",
          "text": [
            "[[90 80 95 76 89 88]\n",
            " [65 75 89 64 85 71]\n",
            " [95 90 94 68 91 60]\n",
            " [91 85 87 87 85 40]]\n"
          ]
        }
      ]
    },
    {
      "cell_type": "code",
      "source": [
        "print(np.flip(marks))"
      ],
      "metadata": {
        "colab": {
          "base_uri": "https://localhost:8080/"
        },
        "id": "5daHTy1DZIEG",
        "outputId": "6ca5c05e-697c-4673-be90-5e4fb0c8d045"
      },
      "execution_count": 7,
      "outputs": [
        {
          "output_type": "stream",
          "name": "stdout",
          "text": [
            "[[40 60 71 88]\n",
            " [85 91 85 89]\n",
            " [87 68 64 76]\n",
            " [87 94 89 95]\n",
            " [85 90 75 80]\n",
            " [91 95 65 90]]\n"
          ]
        }
      ]
    },
    {
      "cell_type": "code",
      "source": [
        "#Data Combination\n",
        "student = np.array(['Alia',\"Riya\",\"Ram\"])\n",
        "marks = np.array([[90, 65, 95, 91],\n",
        "    [80, 75, 90, 85],\n",
        "    [95, 89, 94, 87]])\n",
        "student_1 = np.array([\"Siya\"])\n",
        "marks_1 = np.array([[75,80,90,89]])\n",
        "\n",
        "student = np.concatenate((student,student_1))\n",
        "marks = np.concatenate((marks,marks_1))\n",
        "print(student)\n",
        "print(marks)\n"
      ],
      "metadata": {
        "colab": {
          "base_uri": "https://localhost:8080/"
        },
        "id": "b83ebgdDZWET",
        "outputId": "a07b486b-5a4f-4199-f235-5838e4cc3373"
      },
      "execution_count": 8,
      "outputs": [
        {
          "output_type": "stream",
          "name": "stdout",
          "text": [
            "['Alia' 'Riya' 'Ram' 'Siya']\n",
            "[[90 65 95 91]\n",
            " [80 75 90 85]\n",
            " [95 89 94 87]\n",
            " [75 80 90 89]]\n"
          ]
        }
      ]
    },
    {
      "cell_type": "code",
      "source": [
        "marks=marks.reshape(-1)\n",
        "print(marks)\n",
        "np.split(marks,4)"
      ],
      "metadata": {
        "colab": {
          "base_uri": "https://localhost:8080/"
        },
        "id": "pf-z1T2BL6XO",
        "outputId": "8d9967e9-bcb3-4378-b38c-935235346170"
      },
      "execution_count": 9,
      "outputs": [
        {
          "output_type": "stream",
          "name": "stdout",
          "text": [
            "[90 65 95 91 80 75 90 85 95 89 94 87 75 80 90 89]\n"
          ]
        },
        {
          "output_type": "execute_result",
          "data": {
            "text/plain": [
              "[array([90, 65, 95, 91]),\n",
              " array([80, 75, 90, 85]),\n",
              " array([95, 89, 94, 87]),\n",
              " array([75, 80, 90, 89])]"
            ]
          },
          "metadata": {},
          "execution_count": 9
        }
      ]
    },
    {
      "cell_type": "code",
      "source": [
        "#Data Modification\n",
        "marks[4] = 40\n",
        "print(marks)"
      ],
      "metadata": {
        "colab": {
          "base_uri": "https://localhost:8080/"
        },
        "id": "3z3HsOjy7mLc",
        "outputId": "35788bae-7a16-44cb-fbec-7941f16f42fe"
      },
      "execution_count": 10,
      "outputs": [
        {
          "output_type": "stream",
          "name": "stdout",
          "text": [
            "[90 65 95 91 40 75 90 85 95 89 94 87 75 80 90 89]\n"
          ]
        }
      ]
    },
    {
      "cell_type": "code",
      "source": [
        "c=np.delete(marks,4)\n",
        "print(c)\n"
      ],
      "metadata": {
        "colab": {
          "base_uri": "https://localhost:8080/"
        },
        "id": "zbxDjLgR9Ayp",
        "outputId": "05bbd44b-42fc-4ad0-b754-9b467ce2db4b"
      },
      "execution_count": 11,
      "outputs": [
        {
          "output_type": "stream",
          "name": "stdout",
          "text": [
            "[90 65 95 91 75 90 85 95 89 94 87 75 80 90 89]\n"
          ]
        }
      ]
    },
    {
      "cell_type": "code",
      "source": [
        "print(marks)\n",
        "np.unique(marks)"
      ],
      "metadata": {
        "colab": {
          "base_uri": "https://localhost:8080/"
        },
        "id": "-uAIiPjh__la",
        "outputId": "bbccf459-ca48-41c9-b598-6ef07b32109b"
      },
      "execution_count": 12,
      "outputs": [
        {
          "output_type": "stream",
          "name": "stdout",
          "text": [
            "[90 65 95 91 40 75 90 85 95 89 94 87 75 80 90 89]\n"
          ]
        },
        {
          "output_type": "execute_result",
          "data": {
            "text/plain": [
              "array([40, 65, 75, 80, 85, 87, 89, 90, 91, 94, 95])"
            ]
          },
          "metadata": {},
          "execution_count": 12
        }
      ]
    },
    {
      "cell_type": "code",
      "source": [
        "#Data Type Handling\n",
        "print(marks.dtype)\n",
        "print(marks.astype(dtype=float))\n",
        "print(marks.astype(dtype=str))"
      ],
      "metadata": {
        "colab": {
          "base_uri": "https://localhost:8080/"
        },
        "id": "YcWq5XSIAp24",
        "outputId": "2b699590-e86e-4a00-e468-1f5358048bcc"
      },
      "execution_count": 13,
      "outputs": [
        {
          "output_type": "stream",
          "name": "stdout",
          "text": [
            "int64\n",
            "[90. 65. 95. 91. 40. 75. 90. 85. 95. 89. 94. 87. 75. 80. 90. 89.]\n",
            "['90' '65' '95' '91' '40' '75' '90' '85' '95' '89' '94' '87' '75' '80'\n",
            " '90' '89']\n"
          ]
        }
      ]
    },
    {
      "cell_type": "code",
      "source": [
        "#Copy & View Behaviour\n",
        "a = marks.copy()\n",
        "a[0] = 99\n",
        "print(a)"
      ],
      "metadata": {
        "id": "rOI09430B_EI",
        "colab": {
          "base_uri": "https://localhost:8080/"
        },
        "outputId": "db95cac4-7dad-4b77-8383-fb131caf76dc"
      },
      "execution_count": 16,
      "outputs": [
        {
          "output_type": "stream",
          "name": "stdout",
          "text": [
            "[99 65 95 91 40 75 90 85 95 89 94 87 75 80 90 89]\n"
          ]
        }
      ]
    },
    {
      "cell_type": "code",
      "source": [
        "b = marks.view()\n",
        "b[0] = 100\n",
        "print(marks)"
      ],
      "metadata": {
        "colab": {
          "base_uri": "https://localhost:8080/"
        },
        "id": "b5WSyPFiMaUf",
        "outputId": "f3260475-7d9d-4674-8f9b-2e79c393f9d3"
      },
      "execution_count": 17,
      "outputs": [
        {
          "output_type": "stream",
          "name": "stdout",
          "text": [
            "[100  65  95  91  40  75  90  85  95  89  94  87  75  80  90  89]\n"
          ]
        }
      ]
    }
  ]
}